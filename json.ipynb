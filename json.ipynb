{
 "cells": [
  {
   "cell_type": "code",
   "execution_count": 2,
   "metadata": {},
   "outputs": [],
   "source": [
    "import pandas as pd"
   ]
  },
  {
   "cell_type": "code",
   "execution_count": 3,
   "metadata": {
    "scrolled": true
   },
   "outputs": [
    {
     "data": {
      "text/html": [
       "<div>\n",
       "<style scoped>\n",
       "    .dataframe tbody tr th:only-of-type {\n",
       "        vertical-align: middle;\n",
       "    }\n",
       "\n",
       "    .dataframe tbody tr th {\n",
       "        vertical-align: top;\n",
       "    }\n",
       "\n",
       "    .dataframe thead th {\n",
       "        text-align: right;\n",
       "    }\n",
       "</style>\n",
       "<table border=\"1\" class=\"dataframe\">\n",
       "  <thead>\n",
       "    <tr style=\"text-align: right;\">\n",
       "      <th></th>\n",
       "      <th>business_id</th>\n",
       "      <th>highlights</th>\n",
       "      <th>delivery or takeout</th>\n",
       "      <th>Grubhub enabled</th>\n",
       "      <th>Call To Action enabled</th>\n",
       "      <th>Request a Quote Enabled</th>\n",
       "      <th>Covid Banner</th>\n",
       "      <th>Temporary Closed Until</th>\n",
       "      <th>Virtual Services Offered</th>\n",
       "    </tr>\n",
       "  </thead>\n",
       "  <tbody>\n",
       "    <tr>\n",
       "      <th>209790</th>\n",
       "      <td>PAuSe4-JzDLq6YO6OKPeTg</td>\n",
       "      <td>FALSE</td>\n",
       "      <td>FALSE</td>\n",
       "      <td>FALSE</td>\n",
       "      <td>TRUE</td>\n",
       "      <td>FALSE</td>\n",
       "      <td>FALSE</td>\n",
       "      <td>FALSE</td>\n",
       "      <td>FALSE</td>\n",
       "    </tr>\n",
       "    <tr>\n",
       "      <th>209791</th>\n",
       "      <td>GQEe9qAe2alEA1zzRzUr0w</td>\n",
       "      <td>FALSE</td>\n",
       "      <td>FALSE</td>\n",
       "      <td>FALSE</td>\n",
       "      <td>FALSE</td>\n",
       "      <td>FALSE</td>\n",
       "      <td>FALSE</td>\n",
       "      <td>FALSE</td>\n",
       "      <td>FALSE</td>\n",
       "    </tr>\n",
       "    <tr>\n",
       "      <th>209792</th>\n",
       "      <td>T-PWmMvktw0nMNO4N5XLXA</td>\n",
       "      <td>FALSE</td>\n",
       "      <td>FALSE</td>\n",
       "      <td>FALSE</td>\n",
       "      <td>FALSE</td>\n",
       "      <td>FALSE</td>\n",
       "      <td>FALSE</td>\n",
       "      <td>FALSE</td>\n",
       "      <td>FALSE</td>\n",
       "    </tr>\n",
       "    <tr>\n",
       "      <th>209793</th>\n",
       "      <td>stVu6q5hDxQuppwoo6m0EQ</td>\n",
       "      <td>FALSE</td>\n",
       "      <td>FALSE</td>\n",
       "      <td>FALSE</td>\n",
       "      <td>TRUE</td>\n",
       "      <td>FALSE</td>\n",
       "      <td>FALSE</td>\n",
       "      <td>FALSE</td>\n",
       "      <td>FALSE</td>\n",
       "    </tr>\n",
       "    <tr>\n",
       "      <th>209794</th>\n",
       "      <td>UYig-qxG9zpzuMKns-1tDg</td>\n",
       "      <td>FALSE</td>\n",
       "      <td>FALSE</td>\n",
       "      <td>FALSE</td>\n",
       "      <td>FALSE</td>\n",
       "      <td>FALSE</td>\n",
       "      <td>FALSE</td>\n",
       "      <td>FALSE</td>\n",
       "      <td>FALSE</td>\n",
       "    </tr>\n",
       "  </tbody>\n",
       "</table>\n",
       "</div>"
      ],
      "text/plain": [
       "                   business_id highlights delivery or takeout Grubhub enabled  \\\n",
       "209790  PAuSe4-JzDLq6YO6OKPeTg      FALSE               FALSE           FALSE   \n",
       "209791  GQEe9qAe2alEA1zzRzUr0w      FALSE               FALSE           FALSE   \n",
       "209792  T-PWmMvktw0nMNO4N5XLXA      FALSE               FALSE           FALSE   \n",
       "209793  stVu6q5hDxQuppwoo6m0EQ      FALSE               FALSE           FALSE   \n",
       "209794  UYig-qxG9zpzuMKns-1tDg      FALSE               FALSE           FALSE   \n",
       "\n",
       "       Call To Action enabled Request a Quote Enabled Covid Banner  \\\n",
       "209790                   TRUE                   FALSE        FALSE   \n",
       "209791                  FALSE                   FALSE        FALSE   \n",
       "209792                  FALSE                   FALSE        FALSE   \n",
       "209793                   TRUE                   FALSE        FALSE   \n",
       "209794                  FALSE                   FALSE        FALSE   \n",
       "\n",
       "       Temporary Closed Until Virtual Services Offered  \n",
       "209790                  FALSE                    FALSE  \n",
       "209791                  FALSE                    FALSE  \n",
       "209792                  FALSE                    FALSE  \n",
       "209793                  FALSE                    FALSE  \n",
       "209794                  FALSE                    FALSE  "
      ]
     },
     "execution_count": 3,
     "metadata": {},
     "output_type": "execute_result"
    }
   ],
   "source": [
    "df = pd.read_json('yelp_academic_dataset_covid_features.json', lines=True)\n",
    "df.tail()"
   ]
  },
  {
   "cell_type": "code",
   "execution_count": 39,
   "metadata": {},
   "outputs": [
    {
     "name": "stdout",
     "output_type": "stream",
     "text": [
      "<class 'pandas.core.frame.DataFrame'>\n",
      "RangeIndex: 50000 entries, 0 to 49999\n",
      "Data columns (total 9 columns):\n",
      " #   Column       Non-Null Count  Dtype         \n",
      "---  ------       --------------  -----         \n",
      " 0   review_id    50000 non-null  object        \n",
      " 1   user_id      50000 non-null  object        \n",
      " 2   business_id  50000 non-null  object        \n",
      " 3   stars        50000 non-null  int64         \n",
      " 4   useful       50000 non-null  int64         \n",
      " 5   funny        50000 non-null  int64         \n",
      " 6   cool         50000 non-null  int64         \n",
      " 7   text         50000 non-null  object        \n",
      " 8   date         50000 non-null  datetime64[ns]\n",
      "dtypes: datetime64[ns](1), int64(4), object(4)\n",
      "memory usage: 3.4+ MB\n"
     ]
    }
   ],
   "source": [
    "df.info()"
   ]
  },
  {
   "cell_type": "code",
   "execution_count": 40,
   "metadata": {},
   "outputs": [
    {
     "name": "stdout",
     "output_type": "stream",
     "text": [
      "review_id, user_id, business_id, stars, useful, funny, cool, text, date, "
     ]
    }
   ],
   "source": [
    "for c in df.columns:\n",
    "    print(c, end=', ')"
   ]
  },
  {
   "cell_type": "code",
   "execution_count": 41,
   "metadata": {},
   "outputs": [
    {
     "name": "stdout",
     "output_type": "stream",
     "text": [
      "review_id object, user_id object, business_id object, stars int64, useful int64, funny int64, cool int64, text object, date datetime64[ns], "
     ]
    }
   ],
   "source": [
    "for c in df.columns:\n",
    "    print(c, df[c].dtype, end=', ')"
   ]
  },
  {
   "cell_type": "code",
   "execution_count": 42,
   "metadata": {},
   "outputs": [
    {
     "name": "stdout",
     "output_type": "stream",
     "text": [
      "v:review_id::object,\n",
      "v:user_id::object,\n",
      "v:business_id::object,\n",
      "v:stars::int64,\n",
      "v:useful::int64,\n",
      "v:funny::int64,\n",
      "v:cool::int64,\n",
      "v:text::object,\n",
      "v:date::datetime64[ns],\n"
     ]
    }
   ],
   "source": [
    "for c in df.columns:\n",
    "    print(f'v:{c}::{df[c].dtype},')"
   ]
  },
  {
   "cell_type": "code",
   "execution_count": null,
   "metadata": {},
   "outputs": [],
   "source": []
  }
 ],
 "metadata": {
  "kernelspec": {
   "display_name": "Python 3",
   "language": "python",
   "name": "python3"
  },
  "language_info": {
   "codemirror_mode": {
    "name": "ipython",
    "version": 3
   },
   "file_extension": ".py",
   "mimetype": "text/x-python",
   "name": "python",
   "nbconvert_exporter": "python",
   "pygments_lexer": "ipython3",
   "version": "3.8.3"
  }
 },
 "nbformat": 4,
 "nbformat_minor": 4
}
